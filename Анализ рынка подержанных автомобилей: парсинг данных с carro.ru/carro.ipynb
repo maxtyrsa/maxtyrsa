import pandas as pd
import seaborn
import matplotlib.pyplot as plt
import numpy as np
